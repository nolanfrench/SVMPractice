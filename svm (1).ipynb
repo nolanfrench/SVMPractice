{
  "nbformat": 4,
  "nbformat_minor": 0,
  "metadata": {
    "colab": {
      "provenance": []
    },
    "kernelspec": {
      "name": "python3",
      "display_name": "Python 3"
    },
    "language_info": {
      "name": "python"
    }
  },
  "cells": [
    {
      "cell_type": "code",
      "source": [
        "from sklearn import svm\n",
        "from sklearn.model_selection import train_test_split\n",
        "from sklearn.metrics import accuracy_score\n",
        "from sklearn.linear_model import LogisticRegression"
      ],
      "metadata": {
        "id": "jnRzOFR5t85L"
      },
      "execution_count": null,
      "outputs": []
    },
    {
      "cell_type": "code",
      "source": [
        "#features\n",
        "X = [[-1,-1], [0,-2], [-2.5,2], [-1,-1], [3,.5], [.5,3], [-3,3],]\n",
        "#Labels\n",
        "y = [0, 1, 0, 1, 1, 0, 1]\n",
        "#fit\n",
        "clf = svm.SVC(kernel='linear').fit(X,y)\n",
        "#Predict\n",
        "x = clf.predict([[2,4]])\n",
        "print(x)"
      ],
      "metadata": {
        "colab": {
          "base_uri": "https://localhost:8080/"
        },
        "id": "ofDmDAlgl8fQ",
        "outputId": "a30fa346-38de-4a41-fea1-af492fd0a45e"
      },
      "execution_count": null,
      "outputs": [
        {
          "output_type": "stream",
          "name": "stdout",
          "text": [
            "[0]\n"
          ]
        }
      ]
    },
    {
      "cell_type": "code",
      "execution_count": null,
      "metadata": {
        "colab": {
          "base_uri": "https://localhost:8080/"
        },
        "id": "OqzUeMs_-DRD",
        "outputId": "e21da7a4-ebb4-453c-faeb-ed6a38cb4536"
      },
      "outputs": [
        {
          "output_type": "execute_result",
          "data": {
            "text/plain": [
              "array([1, 0])"
            ]
          },
          "metadata": {},
          "execution_count": 17
        }
      ],
      "source": [
        "#defive our features Array\n",
        "X = [[-3,-1], [0,-2],[-2.5, 2], [-1,-1], [3,.5], [.5,3], [-3,-3],\n",
        "     [3,1],   [0,2],[2.5, -2], [1,1], [-3,-.5], [-.5,-3], [3,3]]\n",
        "#target it is a labeled data (0,1) Binary classification\n",
        "y = [0,1,0,1,1,0, 1, 1,0,1,0 ,0, 1, 0]\n",
        "# Since X contains 14, y must as well\n",
        "#prepare our SVM Model\n",
        "\n",
        "clf = svm.SVC(kernel = 'linear')\n",
        "clf.fit(X,y)\n",
        "\n",
        "predy = clf.predict([[-2,-4], [1,5]])\n",
        "predy"
      ]
    },
    {
      "cell_type": "code",
      "source": [
        "#define our features array\n",
        "X = [[-3, -1], [0, -2], [-2.5, 2], [-1, -1], [3, 0.5], [0.5, 3], [-3, -3],\n",
        "     [3, 1], [0, 2], [2.5, -2], [1, 1], [-3, -0.5], [-0.5, -3], [3, 3]]\n",
        "\n",
        "#define the target (labels) for binary classification\n",
        "y = [0, 1, 0, 1, 1, 0, 1, 1, 0, 1, 0, 0, 1, 0]\n",
        "\n",
        "# Split the data into a training set and a testing set\n",
        "X_train, X_test, y_train, y_test = train_test_split(X, y, test_size=0.2, random_state=42)\n",
        "\n",
        "# Prepare our SVM model\n",
        "clf = svm.SVC(kernel='linear')\n",
        "clf.fit(X_train, y_train)\n",
        "\n",
        "# Predict on the test data\n",
        "predy = clf.predict(X_test)\n",
        "print(\"Predicted y     = \",predy)\n",
        "print(\"Actual y        = \",y_test)\n",
        "print(\"Accuracy Score  = \",accuracy_score(y_test, predy))\n"
      ],
      "metadata": {
        "colab": {
          "base_uri": "https://localhost:8080/"
        },
        "id": "64-4l8wLqAqZ",
        "outputId": "457cfb2c-aae6-4b5a-aa0b-4d519d3e1409"
      },
      "execution_count": null,
      "outputs": [
        {
          "output_type": "stream",
          "name": "stdout",
          "text": [
            "Predicted y     =  [1 0 0]\n",
            "Actual y        =  [1, 0, 0]\n",
            "Accuracy Score  =  1.0\n"
          ]
        }
      ]
    },
    {
      "cell_type": "code",
      "source": [
        "#define our features array\n",
        "X = [[-3, -1], [0, -2], [-2.5, 2], [-1, -1], [3, 0.5], [0.5, 3], [-3, -3],\n",
        "     [3, 1], [0, 2], [2.5, -2], [1, 1], [-3, -0.5], [-0.5, -3], [3, 3],\n",
        "      [30, 10], [100, 225], [42.5, 30], [100, 150], [6, 7.3], [10, 9], [90, 3000]]\n",
        "\n",
        "#define the target (labels) for binary classification\n",
        "y = [0, 1, 0, 1, 1, 0, 1, 1, 0, 1, 0, 0, 1, 0, 2, 2, 2, 2, 2, 2, 2]\n",
        "\n",
        "# Split the data into a training set and a testing set\n",
        "X_train, X_test, y_train, y_test = train_test_split(X, y, test_size=0.7, random_state=109)\n",
        "\n",
        "# Prepare our SVM model\n",
        "clf = svm.SVC(decision_function_shape='ovo')\n",
        "clf.fit(X_train, y_train)\n",
        "\n",
        "# Predict on the test data\n",
        "predy = clf.predict(X_test)\n",
        "print(\"Predicted y     = \",predy)\n",
        "print(\"Actual y        = \",y_test)\n",
        "print(\"Accuracy Score  = \",accuracy_score(y_test, predy))"
      ],
      "metadata": {
        "colab": {
          "base_uri": "https://localhost:8080/"
        },
        "id": "NJq6Pke2weOc",
        "outputId": "5d5fca34-2d9c-4371-c692-98026b0e5bf8"
      },
      "execution_count": null,
      "outputs": [
        {
          "output_type": "stream",
          "name": "stdout",
          "text": [
            "Predicted y     =  [0 2 1 0 0 0 0 2 0 0 1 1 1 0 0]\n",
            "Actual y        =  [2, 2, 1, 1, 2, 0, 2, 2, 0, 0, 0, 1, 1, 0, 1]\n",
            "Accuracy Score  =  0.6\n"
          ]
        }
      ]
    },
    {
      "cell_type": "code",
      "source": [
        "clf2 = LogisticRegression(random_state=0, multi_class='multinomial', solver='lbfgs')\n",
        "clf2 .fit(X_train, y_train)\n",
        "\n",
        "predy = clf2.predict(X_test)\n",
        "print(\"Predicted y     = \",predy)\n",
        "print(\"Actual y        = \",y_test)\n",
        "print(\"Accuracy Score  = \",accuracy_score(y_test, predy))\n",
        "\n",
        "#Logistic regression is much better than the svm when there is more than 2 outcomes."
      ],
      "metadata": {
        "colab": {
          "base_uri": "https://localhost:8080/"
        },
        "id": "5ltd021Myk22",
        "outputId": "e857cf79-ff4e-4bda-b315-b62db1864a60"
      },
      "execution_count": null,
      "outputs": [
        {
          "output_type": "stream",
          "name": "stdout",
          "text": [
            "Predicted y     =  [0 2 1 0 0 0 2 0 0 0 0 1 1 0 1]\n",
            "Actual y        =  [2, 2, 1, 1, 2, 0, 2, 2, 0, 0, 0, 1, 1, 0, 1]\n",
            "Accuracy Score  =  0.7333333333333333\n"
          ]
        }
      ]
    }
  ]
}